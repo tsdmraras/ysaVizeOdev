{
  "nbformat": 4,
  "nbformat_minor": 0,
  "metadata": {
    "colab": {
      "provenance": [],
      "authorship_tag": "ABX9TyMrLDR+nAWmHlWb9UiTzHER",
      "include_colab_link": true
    },
    "kernelspec": {
      "name": "python3",
      "display_name": "Python 3"
    },
    "language_info": {
      "name": "python"
    }
  },
  "cells": [
    {
      "cell_type": "markdown",
      "metadata": {
        "id": "view-in-github",
        "colab_type": "text"
      },
      "source": [
        "<a href=\"https://colab.research.google.com/github/tsdmraras/ysaVizeOdev/blob/main/ysavizesoru4.ipynb\" target=\"_parent\"><img src=\"https://colab.research.google.com/assets/colab-badge.svg\" alt=\"Open In Colab\"/></a>"
      ]
    },
    {
      "cell_type": "code",
      "execution_count": 6,
      "metadata": {
        "colab": {
          "base_uri": "https://localhost:8080/"
        },
        "id": "ecGbJ4yLNvJp",
        "outputId": "a6df4d8e-4567-4e61-d220-68b5188e0a68"
      },
      "outputs": [
        {
          "output_type": "stream",
          "name": "stdout",
          "text": [
            "tensor([[0.9997],\n",
            "        [0.9976]], grad_fn=<DivBackward0>)\n"
          ]
        }
      ],
      "source": [
        "import torch\n",
        "import numpy as np\n",
        "\n",
        "#https://colab.research.google.com/drive/15PsahQYzGTxqVBGihypEgj5lYiDP2wl6?usp=sharing\n",
        "\n",
        "# Seed değerini ayarla\n",
        "torch.manual_seed(1)\n",
        "\n",
        "# Input verisini tensöre dönüştür\n",
        "X = torch.tensor([[1,2,3],[4,5,6]], dtype=torch.float32)\n",
        "\n",
        "# Ağırlık matrislerini rastgele değerlerle başlat\n",
        "w1 = torch.randn(3, 50, requires_grad=True)\n",
        "w2 = torch.randn(50, 1, requires_grad=True)\n",
        "\n",
        "# Bias değerlerini sıfırlarla başlat\n",
        "b1 = torch.zeros(50, requires_grad=True)\n",
        "b2 = torch.zeros(1, requires_grad=True)\n",
        "\n",
        "# Tanh aktivasyon fonksiyonunu tanımla\n",
        "def tanh(x):\n",
        "    return torch.div(torch.exp(x) - torch.exp(-x), torch.exp(x) + torch.exp(-x))\n",
        "\n",
        "# Sigmoid aktivasyon fonksiyonunu tanımla\n",
        "def sigmoid(x):\n",
        "    return torch.div(1, 1 + torch.exp(-x))\n",
        "\n",
        "# Forward propagation işlemini tanımla\n",
        "def forward(X):\n",
        "    z1 = torch.matmul(X, w1) + b1\n",
        "    a1 = tanh(z1)\n",
        "    z2 = torch.matmul(a1, w2) + b2\n",
        "    y = sigmoid(z2)\n",
        "    return y\n",
        "\n",
        "# Output değerlerini hesapla\n",
        "y_pred = forward(X)\n",
        "\n",
        "# Output değerlerini ekrana yazdır\n",
        "print(y_pred)\n"
      ]
    }
  ]
}